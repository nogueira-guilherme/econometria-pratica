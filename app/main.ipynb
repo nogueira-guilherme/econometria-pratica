{
 "cells": [
  {
   "cell_type": "markdown",
   "metadata": {
    "pycharm": {
     "name": "#%% md\n"
    }
   },
   "source": [
    "ECONOMETRIA I - 2º TRABALHO PRÁTICO "
   ]
  },
  {
   "cell_type": "markdown",
   "metadata": {
    "pycharm": {
     "name": "#%% md\n"
    }
   },
   "source": [
    "IMPORTAÇÕES"
   ]
  },
  {
   "cell_type": "code",
   "execution_count": 1,
   "metadata": {
    "pycharm": {
     "name": "#%%\n"
    }
   },
   "outputs": [],
   "source": [
    "import os\n",
    "import numpy as np\n",
    "import math as math\n",
    "import pandas as pd\n",
    "\n",
    "import wooldridge as woo\n",
    "import statsmodels.api as sm\n",
    "import matplotlib.pyplot as plt\n",
    "import statsmodels.formula.api as smf\n",
    "\n",
    "import functions.colors as f_color"
   ]
  },
  {
   "cell_type": "markdown",
   "metadata": {},
   "source": [
    "DEFINIR AS CORES DE FUNDO DOS GRÁFICOS"
   ]
  },
  {
   "cell_type": "code",
   "execution_count": 2,
   "metadata": {},
   "outputs": [],
   "source": [
    "f_color.setChartDefaultColors('white')"
   ]
  },
  {
   "cell_type": "markdown",
   "metadata": {
    "pycharm": {
     "name": "#%% md\n"
    }
   },
   "source": [
    "DEFININDO CAMINHO DO PROJETO"
   ]
  },
  {
   "cell_type": "code",
   "execution_count": 3,
   "metadata": {
    "pycharm": {
     "name": "#%%\n"
    }
   },
   "outputs": [],
   "source": [
    "os.getcwd\n",
    "os.chdir('B:\\\\Programing\\\\python\\\\ufsj\\\\econometria\\\\atividades\\\\atividade-pratica-ii\\\\data')"
   ]
  },
  {
   "cell_type": "markdown",
   "metadata": {
    "pycharm": {
     "name": "#%% md\n"
    }
   },
   "source": [
    "IMPORTANDO A BASE DE DADOS\n",
    "\n",
    "- cumgpa: ponto cumulativo da faculdade\n",
    "- sat: pontuação SAT\n",
    "- hsperc: porcentagem de classificação do ensino médio\n",
    "- tothrs: total de horas em cursos universitários"
   ]
  },
  {
   "cell_type": "code",
   "execution_count": 4,
   "metadata": {
    "pycharm": {
     "name": "#%%\n"
    }
   },
   "outputs": [],
   "source": [
    "bd3 = woo.dataWoo(\"gpa3\")"
   ]
  },
  {
   "cell_type": "markdown",
   "metadata": {},
   "source": [
    "1 - ESTIMAR O MODELO USANDO MQO"
   ]
  },
  {
   "cell_type": "code",
   "execution_count": 5,
   "metadata": {},
   "outputs": [],
   "source": [
    "reg_mqo=smf.ols(formula='cumgpa ~ sat + hsperc + tothrs',data=bd3)\n",
    "res_mqo=reg_mqo.fit()"
   ]
  },
  {
   "cell_type": "markdown",
   "metadata": {},
   "source": [
    "2 - IMPRIMINDO E ANALISANDO OS RESULTADOS\n",
    "\n",
    "- Multicolinearidade:\n",
    "- Heterocedasticidade: \n",
    "- Autocorrelação:"
   ]
  },
  {
   "cell_type": "code",
   "execution_count": 7,
   "metadata": {},
   "outputs": [
    {
     "name": "stdout",
     "output_type": "stream",
     "text": [
      "                            OLS Regression Results                            \n",
      "==============================================================================\n",
      "Dep. Variable:                 cumgpa   R-squared:                       0.235\n",
      "Model:                            OLS   Adj. R-squared:                  0.232\n",
      "Method:                 Least Squares   F-statistic:                     74.72\n",
      "Date:                Fri, 15 Jul 2022   Prob (F-statistic):           3.87e-42\n",
      "Time:                        20:36:08   Log-Likelihood:                -932.28\n",
      "No. Observations:                 732   AIC:                             1873.\n",
      "Df Residuals:                     728   BIC:                             1891.\n",
      "Df Model:                           3                                         \n",
      "Covariance Type:            nonrobust                                         \n",
      "==============================================================================\n",
      "                 coef    std err          t      P>|t|      [0.025      0.975]\n",
      "------------------------------------------------------------------------------\n",
      "Intercept      0.9291      0.229      4.065      0.000       0.480       1.378\n",
      "sat            0.0009      0.000      4.343      0.000       0.000       0.001\n",
      "hsperc        -0.0064      0.002     -4.069      0.000      -0.009      -0.003\n",
      "tothrs         0.0120      0.001     12.860      0.000       0.010       0.014\n",
      "==============================================================================\n",
      "Omnibus:                       12.916   Durbin-Watson:                   2.000\n",
      "Prob(Omnibus):                  0.002   Jarque-Bera (JB):               21.316\n",
      "Skew:                           0.087   Prob(JB):                     2.35e-05\n",
      "Kurtosis:                       3.818   Cond. No.                     6.53e+03\n",
      "==============================================================================\n",
      "\n",
      "Notes:\n",
      "[1] Standard Errors assume that the covariance matrix of the errors is correctly specified.\n",
      "[2] The condition number is large, 6.53e+03. This might indicate that there are\n",
      "strong multicollinearity or other numerical problems.\n"
     ]
    }
   ],
   "source": [
    "print(res_mqo.summary())"
   ]
  },
  {
   "cell_type": "markdown",
   "metadata": {},
   "source": [
    "3 - ANALISANDO O GRÁFICO DOS RESÍDUOS"
   ]
  },
  {
   "cell_type": "code",
   "execution_count": 6,
   "metadata": {},
   "outputs": [],
   "source": [
    "# Criando um DataFrame com os valores\n",
    "data_reg = pd.DataFrame({\n",
    "    'index' : bd3.index,\n",
    "    'residuos' : res_mqo.resid,\n",
    "})"
   ]
  },
  {
   "cell_type": "code",
   "execution_count": null,
   "metadata": {},
   "outputs": [],
   "source": [
    "# Plotar o gráfico\n",
    "x = data_reg['index']\n",
    "y = data_reg['residuos']\n",
    "plt.scatter(x,y, s=10, marker='o', facecolor='#00cfcc')\n",
    "\n",
    "# Adicionando textos no gráfico\n",
    "regressao_fig = plt.ylabel('Resíduo', color='white')\n",
    "regressao_fig = plt.xlabel('Observação', color='white')\n",
    "regressao_fig = plt.title('Gráfico dos resíduos da regressão', color='white')\n",
    "\n",
    "# Salvar imagem e mostrar\n",
    "regressao_fig = plt.savefig(\"images\\\\01-residuos.png\", transparent=True)\n",
    "regressao_fig = plt.show()\n"
   ]
  },
  {
   "cell_type": "markdown",
   "metadata": {},
   "source": [
    "4 - CALCULANDO O FATOR DE INFLAÇÃO DA VARIÂNCIA"
   ]
  },
  {
   "cell_type": "code",
   "execution_count": 16,
   "metadata": {},
   "outputs": [
    {
     "name": "stdout",
     "output_type": "stream",
     "text": [
      "1.308\n"
     ]
    }
   ],
   "source": [
    "R2=res_mqo.rsquared\n",
    "\n",
    "FIV=1/(1-R2)\n",
    "\n",
    "print(f\"{FIV:.3f}\")"
   ]
  }
 ],
 "metadata": {
  "kernelspec": {
   "display_name": "Python 3.9.12 ('base')",
   "language": "python",
   "name": "python3"
  },
  "language_info": {
   "codemirror_mode": {
    "name": "ipython",
    "version": 3
   },
   "file_extension": ".py",
   "mimetype": "text/x-python",
   "name": "python",
   "nbconvert_exporter": "python",
   "pygments_lexer": "ipython3",
   "version": "3.9.12"
  },
  "orig_nbformat": 4,
  "vscode": {
   "interpreter": {
    "hash": "ad2bdc8ecc057115af97d19610ffacc2b4e99fae6737bb82f5d7fb13d2f2c186"
   }
  }
 },
 "nbformat": 4,
 "nbformat_minor": 2
}
